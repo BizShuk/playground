{
 "cells": [
  {
   "cell_type": "code",
   "execution_count": null,
   "metadata": {},
   "outputs": [],
   "source": [
    "import numpy as np\n",
    "\n",
    "num_class_per_week = [3,2,3,2,5,1]\n",
    "class_hours = [1,1,2,3,3,1]\n",
    "# num_class_per_week = num_class_per_week*2\n",
    "\n",
    "classes = np.array([num_class_per_week,class_hours])\n",
    "print(classes.shape)\n",
    "avg_num_class_per_Week = classes[0].mean()\n",
    "avg_class_hours = classes[1].mean()\n",
    "print(f'avg number of class per week: {avg_num_class_per_Week}, avg hours of class:{avg_class_hours}')\n"
   ]
  },
  {
   "cell_type": "markdown",
   "metadata": {},
   "source": [
    "### integrate with pandas"
   ]
  },
  {
   "cell_type": "code",
   "execution_count": 24,
   "metadata": {},
   "outputs": [
    {
     "name": "stdout",
     "output_type": "stream",
     "text": [
      "first row of the dataframe. \n",
      "class_name            Class_A\n",
      "num_class_per_week          3\n",
      "class_hours                 1\n",
      "Name: 0, dtype: object\n",
      "\n",
      "class_name column of first row of the dataframe. Class_A\n",
      "\n",
      "  class_name  num_class_per_week  class_hours\n",
      "0    Class_A                   3            1\n",
      "2    Class_C                   3            2\n",
      "4    Class_E                   5            3\n",
      "  class_name  num_class_per_week  class_hours\n",
      "3    Class_D                   2            3\n",
      "4    Class_E                   5            3\n"
     ]
    }
   ],
   "source": [
    "import pandas as pd\n",
    "\n",
    "class_name = [\"Class_A\",\"Class_B\",\"Class_C\",\"Class_D\",\"Class_E\",\"Class_F\"]\n",
    "\n",
    "class_df = pd.DataFrame({\n",
    "    'class_name': class_name, \n",
    "    'num_class_per_week': num_class_per_week,\n",
    "    'class_hours': class_hours\n",
    "})\n",
    "\n",
    "class_df.loc[0] # first row of the dataframe. \n",
    "class_df.loc[0, \"class_name\"] # class_name column of first row of the dataframe. \n",
    "\n",
    "class_df[class_df['num_class_per_week'] > 2]\n",
    "class_df.query('class_hours > 2')\n"
   ]
  }
 ],
 "metadata": {
  "kernelspec": {
   "display_name": ".venv",
   "language": "python",
   "name": "python3"
  },
  "language_info": {
   "codemirror_mode": {
    "name": "ipython",
    "version": 3
   },
   "file_extension": ".py",
   "mimetype": "text/x-python",
   "name": "python",
   "nbconvert_exporter": "python",
   "pygments_lexer": "ipython3",
   "version": "3.11.4"
  },
  "orig_nbformat": 4
 },
 "nbformat": 4,
 "nbformat_minor": 2
}
