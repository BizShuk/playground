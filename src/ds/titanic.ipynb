{
 "cells": [
  {
   "cell_type": "markdown",
   "metadata": {},
   "source": [
    "### How to load arff file"
   ]
  },
  {
   "cell_type": "code",
   "execution_count": 1,
   "metadata": {},
   "outputs": [],
   "source": [
    "\n",
    "import pandas as pd\n",
    "import arff\n",
    "\n",
    "data = arff.load(open('../../assets/dataset/titanic.arff', 'r'))\n"
   ]
  },
  {
   "cell_type": "markdown",
   "metadata": {},
   "source": [
    "### How to load csv"
   ]
  },
  {
   "cell_type": "code",
   "execution_count": 2,
   "metadata": {},
   "outputs": [],
   "source": [
    "import numpy as np\n",
    "\n",
    "df = pd.read_csv('../../assets/dataset/titanic.csv')\n",
    "# x, y = df.drop('class', axis=1), df['class']\n",
    "\n",
    "# print(\"X shape --> \", x.shape)\n",
    "# print(\"y shape --> \", y.shape)\n",
    "# print(\"classes --> \", np.unique(y))\n",
    "# print(\"X dtypes --> \\n\", x.dtypes)\n",
    "# print(\"y dtypes --> \", y.dtypes)"
   ]
  }
 ],
 "metadata": {
  "kernelspec": {
   "display_name": ".venv",
   "language": "python",
   "name": "python3"
  },
  "language_info": {
   "codemirror_mode": {
    "name": "ipython",
    "version": 3
   },
   "file_extension": ".py",
   "mimetype": "text/x-python",
   "name": "python",
   "nbconvert_exporter": "python",
   "pygments_lexer": "ipython3",
   "version": "3.11.4"
  },
  "orig_nbformat": 4
 },
 "nbformat": 4,
 "nbformat_minor": 2
}
